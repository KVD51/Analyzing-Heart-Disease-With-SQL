{
 "cells": [
  {
   "cell_type": "markdown",
   "metadata": {},
   "source": [
    "## Data Analysis Using SQL\n",
    "***\n",
    "\n",
    "<font color=blue>The analysis below was done for a project when I was learning to use SQL. The SQL code analyzes lipid panel results for determining whether patients may be at risk of coronary artery disease (CAD). The data and analysis are based on simplified real life data, and does not reflect all factors and steps used in the process of evaluating patients for CAD.\n",
    "\n",
    "The database (AHD.db) contains three tables: patients, panels, recommended_values. The tables will be used to answer various questions, culminating in determing which patients may be at risk based on their LDL scores.\n",
    "\n",
    "**Remember to use the file \"AHD_copy_original.db\". Save it to your local computer as \"AHD.db\". If you save using another file name, just update the file name in the sqlite path below.**\n",
    "</font>\n",
    "***"
   ]
  },
  {
   "cell_type": "markdown",
   "metadata": {},
   "source": [
    "### Load sqlite for use in Jupyter Notebook\n",
    "***\n",
    "\n",
    "<font color=green>If you wish to run the code: the cell below will enable local use of sqlite. The path (sqlite:////...) should be replaced with the path/location of where you saved the db file on your local machine. After loading and establishing a link to the database, sql magic symbols mustbe used in every code cell: \"%sql\" (for one line of code) or \"%%sql\" (for multiple lines of code).\n",
    "\n",
    "Note that importing sqlite3 and pandas could be another approach to using sql in jupyter notebook.</font>"
   ]
  },
  {
   "cell_type": "code",
   "execution_count": 1,
   "metadata": {},
   "outputs": [],
   "source": [
    "%load_ext sql\n",
    "%sql sqlite:////Users/kvd51/Documents/Git/SQL/AHD/AHD.db"
   ]
  },
  {
   "cell_type": "markdown",
   "metadata": {},
   "source": [
    "### Review each table\n",
    "\n",
    "<font color=green>First let's take a look at each of the three tables: patients, panels, recommended_values. Output from the patients and panels tables is limited to 7 rows using \"LIMIT\".</font>"
   ]
  },
  {
   "cell_type": "code",
   "execution_count": 9,
   "metadata": {},
   "outputs": [
    {
     "name": "stdout",
     "output_type": "stream",
     "text": [
      " * sqlite:////Users/kvd51/Documents/Git/SQL/AHD.db\n",
      "Done.\n"
     ]
    },
    {
     "data": {
      "text/html": [
       "<table>\n",
       "    <tr>\n",
       "        <th>ID</th>\n",
       "        <th>Name</th>\n",
       "        <th>Address</th>\n",
       "        <th>Phone</th>\n",
       "        <th>Email</th>\n",
       "        <th>Status</th>\n",
       "    </tr>\n",
       "    <tr>\n",
       "        <td>1</td>\n",
       "        <td>Karlis Clemes</td>\n",
       "        <td>2507 Tony Point</td>\n",
       "        <td>801-246-9110</td>\n",
       "        <td>kclemes0@businesswire.com</td>\n",
       "        <td>inactive</td>\n",
       "    </tr>\n",
       "    <tr>\n",
       "        <td>2</td>\n",
       "        <td>Garnet Wadesworth</td>\n",
       "        <td>436 Ryan Crossing</td>\n",
       "        <td>763-828-5228</td>\n",
       "        <td>gwadesworth1@e-recht24.de</td>\n",
       "        <td>active</td>\n",
       "    </tr>\n",
       "    <tr>\n",
       "        <td>3</td>\n",
       "        <td>Carroll Dickins</td>\n",
       "        <td>04422 Dovetail Alley</td>\n",
       "        <td>467-846-7771</td>\n",
       "        <td>cdickins2@wordpress.com</td>\n",
       "        <td>inactive</td>\n",
       "    </tr>\n",
       "    <tr>\n",
       "        <td>4</td>\n",
       "        <td>Carlee Rylett</td>\n",
       "        <td>46506 Summerview Center</td>\n",
       "        <td>917-247-3933</td>\n",
       "        <td>crylett3@reddit.com</td>\n",
       "        <td>inactive</td>\n",
       "    </tr>\n",
       "    <tr>\n",
       "        <td>5</td>\n",
       "        <td>Vinita Ruller</td>\n",
       "        <td>5095 Dovetail Terrace</td>\n",
       "        <td>416-861-9250</td>\n",
       "        <td>vruller4@163.com</td>\n",
       "        <td>inactive</td>\n",
       "    </tr>\n",
       "    <tr>\n",
       "        <td>6</td>\n",
       "        <td>Yvor Brownjohn</td>\n",
       "        <td>9 Logan Terrace</td>\n",
       "        <td>602-245-3866</td>\n",
       "        <td>ybrownjohn5@hexun.com</td>\n",
       "        <td>active</td>\n",
       "    </tr>\n",
       "    <tr>\n",
       "        <td>7</td>\n",
       "        <td>Valaria Broadwell</td>\n",
       "        <td>4808 Hollow Ridge Avenue</td>\n",
       "        <td>740-299-5939</td>\n",
       "        <td>vbroadwell6@dropbox.com</td>\n",
       "        <td>inactive</td>\n",
       "    </tr>\n",
       "</table>"
      ],
      "text/plain": [
       "[('1', 'Karlis Clemes', '2507 Tony Point', '801-246-9110', 'kclemes0@businesswire.com', 'inactive'),\n",
       " ('2', 'Garnet Wadesworth', '436 Ryan Crossing', '763-828-5228', 'gwadesworth1@e-recht24.de', 'active'),\n",
       " ('3', 'Carroll Dickins', '04422 Dovetail Alley', '467-846-7771', 'cdickins2@wordpress.com', 'inactive'),\n",
       " ('4', 'Carlee Rylett', '46506 Summerview Center', '917-247-3933', 'crylett3@reddit.com', 'inactive'),\n",
       " ('5', 'Vinita Ruller', '5095 Dovetail Terrace', '416-861-9250', 'vruller4@163.com', 'inactive'),\n",
       " ('6', 'Yvor Brownjohn', '9 Logan Terrace', '602-245-3866', 'ybrownjohn5@hexun.com', 'active'),\n",
       " ('7', 'Valaria Broadwell', '4808 Hollow Ridge Avenue', '740-299-5939', 'vbroadwell6@dropbox.com', 'inactive')]"
      ]
     },
     "execution_count": 9,
     "metadata": {},
     "output_type": "execute_result"
    }
   ],
   "source": [
    "%%sql\n",
    "SELECT *\n",
    "FROM patients\n",
    "LIMIT 7;"
   ]
  },
  {
   "cell_type": "code",
   "execution_count": 10,
   "metadata": {},
   "outputs": [
    {
     "name": "stdout",
     "output_type": "stream",
     "text": [
      " * sqlite:////Users/kvd51/Documents/Git/SQL/AHD.db\n",
      "Done.\n"
     ]
    },
    {
     "data": {
      "text/html": [
       "<table>\n",
       "    <tr>\n",
       "        <th>ID</th>\n",
       "        <th>Cholesterol</th>\n",
       "        <th>HDL</th>\n",
       "        <th>Triglycerides</th>\n",
       "        <th>patient_ID</th>\n",
       "    </tr>\n",
       "    <tr>\n",
       "        <td>1</td>\n",
       "        <td>230.61</td>\n",
       "        <td>71.87</td>\n",
       "        <td>81.82</td>\n",
       "        <td>97</td>\n",
       "    </tr>\n",
       "    <tr>\n",
       "        <td>2</td>\n",
       "        <td>294.04</td>\n",
       "        <td>93.98</td>\n",
       "        <td>123.89</td>\n",
       "        <td>48</td>\n",
       "    </tr>\n",
       "    <tr>\n",
       "        <td>3</td>\n",
       "        <td>250.1</td>\n",
       "        <td>78.31</td>\n",
       "        <td>237.73</td>\n",
       "        <td>55</td>\n",
       "    </tr>\n",
       "    <tr>\n",
       "        <td>4</td>\n",
       "        <td>122.01</td>\n",
       "        <td>55.05</td>\n",
       "        <td>166.37</td>\n",
       "        <td>30</td>\n",
       "    </tr>\n",
       "    <tr>\n",
       "        <td>5</td>\n",
       "        <td>281.93</td>\n",
       "        <td>81.55</td>\n",
       "        <td>223.15</td>\n",
       "        <td>14</td>\n",
       "    </tr>\n",
       "    <tr>\n",
       "        <td>6</td>\n",
       "        <td>52.73</td>\n",
       "        <td>26.33</td>\n",
       "        <td>115.23</td>\n",
       "        <td>64</td>\n",
       "    </tr>\n",
       "    <tr>\n",
       "        <td>7</td>\n",
       "        <td>224.44</td>\n",
       "        <td>86.57</td>\n",
       "        <td>200.34</td>\n",
       "        <td>41</td>\n",
       "    </tr>\n",
       "</table>"
      ],
      "text/plain": [
       "[('1', '230.61', '71.87', '81.82', '97'),\n",
       " ('2', '294.04', '93.98', '123.89', '48'),\n",
       " ('3', '250.1', '78.31', '237.73', '55'),\n",
       " ('4', '122.01', '55.05', '166.37', '30'),\n",
       " ('5', '281.93', '81.55', '223.15', '14'),\n",
       " ('6', '52.73', '26.33', '115.23', '64'),\n",
       " ('7', '224.44', '86.57', '200.34', '41')]"
      ]
     },
     "execution_count": 10,
     "metadata": {},
     "output_type": "execute_result"
    }
   ],
   "source": [
    "%%sql\n",
    "SELECT *\n",
    "FROM panels\n",
    "LIMIT 7;"
   ]
  },
  {
   "cell_type": "code",
   "execution_count": 11,
   "metadata": {},
   "outputs": [
    {
     "name": "stdout",
     "output_type": "stream",
     "text": [
      " * sqlite:////Users/kvd51/Documents/Git/SQL/AHD.db\n",
      "Done.\n"
     ]
    },
    {
     "data": {
      "text/html": [
       "<table>\n",
       "    <tr>\n",
       "        <th>ID</th>\n",
       "        <th>Lipid</th>\n",
       "        <th>Low</th>\n",
       "        <th>Desirable</th>\n",
       "        <th>Borderline_High</th>\n",
       "        <th>High</th>\n",
       "    </tr>\n",
       "    <tr>\n",
       "        <td>1</td>\n",
       "        <td>Total_Cholesterol</td>\n",
       "        <td>NULL</td>\n",
       "        <td>NULL</td>\n",
       "        <td>200</td>\n",
       "        <td>240</td>\n",
       "    </tr>\n",
       "    <tr>\n",
       "        <td>2</td>\n",
       "        <td>LDL</td>\n",
       "        <td>NULL</td>\n",
       "        <td>NULL</td>\n",
       "        <td>130</td>\n",
       "        <td>160</td>\n",
       "    </tr>\n",
       "    <tr>\n",
       "        <td>3</td>\n",
       "        <td>HDL</td>\n",
       "        <td>NULL</td>\n",
       "        <td>50</td>\n",
       "        <td>NULL</td>\n",
       "        <td>NULL</td>\n",
       "    </tr>\n",
       "    <tr>\n",
       "        <td>4</td>\n",
       "        <td>Triglycerides</td>\n",
       "        <td>NULL</td>\n",
       "        <td>NULL</td>\n",
       "        <td>150</td>\n",
       "        <td>200</td>\n",
       "    </tr>\n",
       "</table>"
      ],
      "text/plain": [
       "[('1', 'Total_Cholesterol', 'NULL', 'NULL', '200', '240'),\n",
       " ('2', 'LDL', 'NULL', 'NULL', '130', '160'),\n",
       " ('3', 'HDL', 'NULL', '50', 'NULL', 'NULL'),\n",
       " ('4', 'Triglycerides', 'NULL', 'NULL', '150', '200')]"
      ]
     },
     "execution_count": 11,
     "metadata": {},
     "output_type": "execute_result"
    }
   ],
   "source": [
    "%%sql\n",
    "SELECT *\n",
    "FROM recommended_values;"
   ]
  },
  {
   "cell_type": "markdown",
   "metadata": {},
   "source": [
    "### Make some alterations\n",
    "\n",
    "<font color=green>For the patient with ID = 7, we want to change the status from inactive to active, then view the row of data for patient 7 to confirm that the status was changed.\n",
    "    </font>"
   ]
  },
  {
   "cell_type": "code",
   "execution_count": 2,
   "metadata": {},
   "outputs": [
    {
     "name": "stdout",
     "output_type": "stream",
     "text": [
      " * sqlite:////Users/kvd51/Documents/Git/SQL/AHD.db\n",
      "1 rows affected.\n",
      "Done.\n"
     ]
    },
    {
     "data": {
      "text/html": [
       "<table>\n",
       "    <tr>\n",
       "        <th>ID</th>\n",
       "        <th>Name</th>\n",
       "        <th>Address</th>\n",
       "        <th>Phone</th>\n",
       "        <th>Email</th>\n",
       "        <th>Status</th>\n",
       "    </tr>\n",
       "    <tr>\n",
       "        <td>7</td>\n",
       "        <td>Valaria Broadwell</td>\n",
       "        <td>4808 Hollow Ridge Avenue</td>\n",
       "        <td>740-299-5939</td>\n",
       "        <td>vbroadwell6@dropbox.com</td>\n",
       "        <td>active</td>\n",
       "    </tr>\n",
       "</table>"
      ],
      "text/plain": [
       "[('7', 'Valaria Broadwell', '4808 Hollow Ridge Avenue', '740-299-5939', 'vbroadwell6@dropbox.com', 'active')]"
      ]
     },
     "execution_count": 2,
     "metadata": {},
     "output_type": "execute_result"
    }
   ],
   "source": [
    "%%sql\n",
    "UPDATE patients\n",
    "SET Status = 'active'\n",
    "WHERE ID = 7;\n",
    "\n",
    "SELECT *\n",
    "FROM patients\n",
    "WHERE ID = 7;"
   ]
  },
  {
   "cell_type": "markdown",
   "metadata": {},
   "source": [
    "<font color=green>Now let's split the patients table into two tables: active_patients and inactive_patients\n",
    "    The inactive_patients table is created first by selecting the inactive rows from the patients table.\n",
    "    </font>"
   ]
  },
  {
   "cell_type": "code",
   "execution_count": 3,
   "metadata": {},
   "outputs": [
    {
     "name": "stdout",
     "output_type": "stream",
     "text": [
      " * sqlite:////Users/kvd51/Documents/Git/SQL/AHD.db\n",
      "Done.\n"
     ]
    },
    {
     "data": {
      "text/plain": [
       "[]"
      ]
     },
     "execution_count": 3,
     "metadata": {},
     "output_type": "execute_result"
    }
   ],
   "source": [
    "%%sql\n",
    "CREATE TABLE inactive_patients\n",
    "AS  SELECT *\n",
    "    FROM patients\n",
    "    WHERE Status = 'inactive';"
   ]
  },
  {
   "cell_type": "markdown",
   "metadata": {},
   "source": [
    "<font color=green>Count the number of IDs in the inactive_patients table.\n",
    "    </font>"
   ]
  },
  {
   "cell_type": "code",
   "execution_count": 6,
   "metadata": {},
   "outputs": [
    {
     "name": "stdout",
     "output_type": "stream",
     "text": [
      " * sqlite:////Users/kvd51/Documents/Git/SQL/AHD.db\n",
      "Done.\n"
     ]
    },
    {
     "data": {
      "text/html": [
       "<table>\n",
       "    <tr>\n",
       "        <th>num_inactive</th>\n",
       "    </tr>\n",
       "    <tr>\n",
       "        <td>52</td>\n",
       "    </tr>\n",
       "</table>"
      ],
      "text/plain": [
       "[(52,)]"
      ]
     },
     "execution_count": 6,
     "metadata": {},
     "output_type": "execute_result"
    }
   ],
   "source": [
    "%%sql\n",
    "SELECT COUNT(ID) AS 'num_inactive'\n",
    "FROM inactive_patients;"
   ]
  },
  {
   "cell_type": "markdown",
   "metadata": {},
   "source": [
    "<font color=green>Delete the inactive patients from the patients table, and rename the table to \"active_patients\" since only active patients are left in the table.\n",
    "    </font>"
   ]
  },
  {
   "cell_type": "code",
   "execution_count": 4,
   "metadata": {},
   "outputs": [
    {
     "name": "stdout",
     "output_type": "stream",
     "text": [
      " * sqlite:////Users/kvd51/Documents/Git/SQL/AHD.db\n",
      "52 rows affected.\n",
      "Done.\n"
     ]
    },
    {
     "data": {
      "text/plain": [
       "[]"
      ]
     },
     "execution_count": 4,
     "metadata": {},
     "output_type": "execute_result"
    }
   ],
   "source": [
    "%%sql\n",
    "DELETE FROM patients\n",
    "WHERE Status = 'inactive';\n",
    "\n",
    "ALTER TABLE patients\n",
    "RENAME TO active_patients;"
   ]
  },
  {
   "cell_type": "markdown",
   "metadata": {},
   "source": [
    "<font color=green>Verify that the active_patients table contains only active patients. All columns are selecting from the table; rows are limited to 5.\n",
    "    </font>"
   ]
  },
  {
   "cell_type": "code",
   "execution_count": 2,
   "metadata": {},
   "outputs": [
    {
     "name": "stdout",
     "output_type": "stream",
     "text": [
      " * sqlite:////Users/kvd51/Documents/Git/SQL/AHD.db\n",
      "Done.\n"
     ]
    },
    {
     "data": {
      "text/html": [
       "<table>\n",
       "    <tr>\n",
       "        <th>ID</th>\n",
       "        <th>Name</th>\n",
       "        <th>Address</th>\n",
       "        <th>Phone</th>\n",
       "        <th>Email</th>\n",
       "        <th>Status</th>\n",
       "    </tr>\n",
       "    <tr>\n",
       "        <td>2</td>\n",
       "        <td>Garnet Wadesworth</td>\n",
       "        <td>436 Ryan Crossing</td>\n",
       "        <td>763-828-5228</td>\n",
       "        <td>gwadesworth1@e-recht24.de</td>\n",
       "        <td>active</td>\n",
       "    </tr>\n",
       "    <tr>\n",
       "        <td>6</td>\n",
       "        <td>Yvor Brownjohn</td>\n",
       "        <td>9 Logan Terrace</td>\n",
       "        <td>602-245-3866</td>\n",
       "        <td>ybrownjohn5@hexun.com</td>\n",
       "        <td>active</td>\n",
       "    </tr>\n",
       "    <tr>\n",
       "        <td>7</td>\n",
       "        <td>Valaria Broadwell</td>\n",
       "        <td>4808 Hollow Ridge Avenue</td>\n",
       "        <td>740-299-5939</td>\n",
       "        <td>vbroadwell6@dropbox.com</td>\n",
       "        <td>active</td>\n",
       "    </tr>\n",
       "    <tr>\n",
       "        <td>10</td>\n",
       "        <td>Rossy McGebenay</td>\n",
       "        <td>40 Elka Pass</td>\n",
       "        <td>474-164-2534</td>\n",
       "        <td>rmcgebenay9@goodreads.com</td>\n",
       "        <td>active</td>\n",
       "    </tr>\n",
       "    <tr>\n",
       "        <td>11</td>\n",
       "        <td>Gordie Longdon</td>\n",
       "        <td>8 Bartelt Pass</td>\n",
       "        <td>616-774-3837</td>\n",
       "        <td>glongdona@i2i.jp</td>\n",
       "        <td>active</td>\n",
       "    </tr>\n",
       "</table>"
      ],
      "text/plain": [
       "[('2', 'Garnet Wadesworth', '436 Ryan Crossing', '763-828-5228', 'gwadesworth1@e-recht24.de', 'active'),\n",
       " ('6', 'Yvor Brownjohn', '9 Logan Terrace', '602-245-3866', 'ybrownjohn5@hexun.com', 'active'),\n",
       " ('7', 'Valaria Broadwell', '4808 Hollow Ridge Avenue', '740-299-5939', 'vbroadwell6@dropbox.com', 'active'),\n",
       " ('10', 'Rossy McGebenay', '40 Elka Pass', '474-164-2534', 'rmcgebenay9@goodreads.com', 'active'),\n",
       " ('11', 'Gordie Longdon', '8 Bartelt Pass', '616-774-3837', 'glongdona@i2i.jp', 'active')]"
      ]
     },
     "execution_count": 2,
     "metadata": {},
     "output_type": "execute_result"
    }
   ],
   "source": [
    "%%sql\n",
    "SELECT *\n",
    "FROM active_patients\n",
    "LIMIT 5;"
   ]
  },
  {
   "cell_type": "markdown",
   "metadata": {},
   "source": [
    "### Data analysis done to fulfill random requests\n",
    "\n",
    "<font color=green>Someone wants to know the percentage of active and inactive patients. This query uses WITH to count the active, inactive and total patients and asigns the counts to aliases. The aliases are then referenced to calculate the percentages.\n",
    "    </font>"
   ]
  },
  {
   "cell_type": "code",
   "execution_count": 13,
   "metadata": {},
   "outputs": [
    {
     "name": "stdout",
     "output_type": "stream",
     "text": [
      " * sqlite:////Users/kvd51/Documents/Git/SQL/AHD.db\n",
      "Done.\n"
     ]
    },
    {
     "data": {
      "text/html": [
       "<table>\n",
       "    <tr>\n",
       "        <th>active_percent</th>\n",
       "        <th>inactive_percent</th>\n",
       "    </tr>\n",
       "    <tr>\n",
       "        <td>48</td>\n",
       "        <td>52</td>\n",
       "    </tr>\n",
       "</table>"
      ],
      "text/plain": [
       "[(48, 52)]"
      ]
     },
     "execution_count": 13,
     "metadata": {},
     "output_type": "execute_result"
    }
   ],
   "source": [
    "%%sql\n",
    "WITH\n",
    "total_active AS (\n",
    "    SELECT COUNT(ID) AS active\n",
    "    FROM active_patients\n",
    "),\n",
    "total_inactive AS (\n",
    "    SELECT COUNT(ID) AS inactive\n",
    "    FROM inactive_patients\n",
    "),\n",
    "total_patients AS (\n",
    "    SELECT total_active.active + total_inactive.inactive AS total\n",
    "    FROM total_active, total_inactive\n",
    ")\n",
    "SELECT (total_active.active * 100 / total_patients.total) AS active_percent,\n",
    "        (total_inactive.inactive * 100 / total_patients.total) AS inactive_percent\n",
    "FROM total_active, total_inactive, total_patients;\n"
   ]
  },
  {
   "cell_type": "markdown",
   "metadata": {},
   "source": [
    "<font color=green>Someone wants to know the last active patient seen by using the MAX aggregate.\n",
    "    </font>"
   ]
  },
  {
   "cell_type": "code",
   "execution_count": 16,
   "metadata": {},
   "outputs": [
    {
     "name": "stdout",
     "output_type": "stream",
     "text": [
      " * sqlite:////Users/kvd51/Documents/Git/SQL/AHD.db\n",
      "Done.\n"
     ]
    },
    {
     "data": {
      "text/html": [
       "<table>\n",
       "    <tr>\n",
       "        <th>ID</th>\n",
       "        <th>Name</th>\n",
       "        <th>Address</th>\n",
       "        <th>Phone</th>\n",
       "        <th>Email</th>\n",
       "        <th>Status</th>\n",
       "    </tr>\n",
       "    <tr>\n",
       "        <td>99</td>\n",
       "        <td>Daisy Foden</td>\n",
       "        <td>04 Pine View Terrace</td>\n",
       "        <td>407-423-4561</td>\n",
       "        <td>dfoden2q@cbslocal.com</td>\n",
       "        <td>active</td>\n",
       "    </tr>\n",
       "</table>"
      ],
      "text/plain": [
       "[('99', 'Daisy Foden', '04 Pine View Terrace', '407-423-4561', 'dfoden2q@cbslocal.com', 'active')]"
      ]
     },
     "execution_count": 16,
     "metadata": {},
     "output_type": "execute_result"
    }
   ],
   "source": [
    "%%sql\n",
    "SELECT *\n",
    "FROM active_patients\n",
    "WHERE ID = (\n",
    "    SELECT MAX(ID) FROM active_patients);"
   ]
  },
  {
   "cell_type": "markdown",
   "metadata": {},
   "source": [
    "<font color=green>Someone wants to randomly select ten patients (active or inactive). Given that the patients table was split into active and inactive, we'll temporarily combine them with UNION. The random() function is used in combination with ORDER BY to randomly order the list of patients, then the top ten patients are given by using LIMIT.\n",
    "    </font>"
   ]
  },
  {
   "cell_type": "code",
   "execution_count": 23,
   "metadata": {},
   "outputs": [
    {
     "name": "stdout",
     "output_type": "stream",
     "text": [
      " * sqlite:////Users/kvd51/Documents/Git/SQL/AHD.db\n",
      "Done.\n"
     ]
    },
    {
     "data": {
      "text/html": [
       "<table>\n",
       "    <tr>\n",
       "        <th>ID</th>\n",
       "        <th>Name</th>\n",
       "        <th>Address</th>\n",
       "        <th>Phone</th>\n",
       "        <th>Email</th>\n",
       "        <th>Status</th>\n",
       "    </tr>\n",
       "    <tr>\n",
       "        <td>97</td>\n",
       "        <td>Chas Cicci</td>\n",
       "        <td>109 Drewry Hill</td>\n",
       "        <td>904-701-1413</td>\n",
       "        <td>ccicci2o@vistaprint.com</td>\n",
       "        <td>active</td>\n",
       "    </tr>\n",
       "    <tr>\n",
       "        <td>80</td>\n",
       "        <td>Flin Lodovichi</td>\n",
       "        <td>7 Anderson Way</td>\n",
       "        <td>301-591-3154</td>\n",
       "        <td>flodovichi27@blinklist.com</td>\n",
       "        <td>active</td>\n",
       "    </tr>\n",
       "    <tr>\n",
       "        <td>28</td>\n",
       "        <td>Morris Whetland</td>\n",
       "        <td>72 Dexter Circle</td>\n",
       "        <td>133-259-1189</td>\n",
       "        <td>mwhetlandr@rambler.ru</td>\n",
       "        <td>active</td>\n",
       "    </tr>\n",
       "    <tr>\n",
       "        <td>33</td>\n",
       "        <td>Nealy Camblin</td>\n",
       "        <td>89671 Killdeer Terrace</td>\n",
       "        <td>436-337-4886</td>\n",
       "        <td>ncamblinw@icio.us</td>\n",
       "        <td>active</td>\n",
       "    </tr>\n",
       "    <tr>\n",
       "        <td>48</td>\n",
       "        <td>Jazmin Sholl</td>\n",
       "        <td>743 Hudson Way</td>\n",
       "        <td>286-963-5049</td>\n",
       "        <td>jsholl1b@walmart.com</td>\n",
       "        <td>inactive</td>\n",
       "    </tr>\n",
       "    <tr>\n",
       "        <td>20</td>\n",
       "        <td>Myron Atkin</td>\n",
       "        <td>7523 Lillian Park</td>\n",
       "        <td>301-819-0545</td>\n",
       "        <td>matkinj@irs.gov</td>\n",
       "        <td>inactive</td>\n",
       "    </tr>\n",
       "    <tr>\n",
       "        <td>98</td>\n",
       "        <td>Arlinda Hoult</td>\n",
       "        <td>4 Prairie Rose Center</td>\n",
       "        <td>949-378-2061</td>\n",
       "        <td>ahoult2p@globo.com</td>\n",
       "        <td>inactive</td>\n",
       "    </tr>\n",
       "    <tr>\n",
       "        <td>87</td>\n",
       "        <td>Krista Kaes</td>\n",
       "        <td>8 Judy Street</td>\n",
       "        <td>743-910-7495</td>\n",
       "        <td>kkaes2e@globo.com</td>\n",
       "        <td>inactive</td>\n",
       "    </tr>\n",
       "    <tr>\n",
       "        <td>42</td>\n",
       "        <td>Freddie Garstang</td>\n",
       "        <td>0778 Marcy Way</td>\n",
       "        <td>491-180-9446</td>\n",
       "        <td>fgarstang15@oakley.com</td>\n",
       "        <td>active</td>\n",
       "    </tr>\n",
       "    <tr>\n",
       "        <td>69</td>\n",
       "        <td>Elsbeth Workman</td>\n",
       "        <td>3 Lawn Street</td>\n",
       "        <td>991-910-4412</td>\n",
       "        <td>eworkman1w@mozilla.org</td>\n",
       "        <td>inactive</td>\n",
       "    </tr>\n",
       "</table>"
      ],
      "text/plain": [
       "[('97', 'Chas Cicci', '109 Drewry Hill', '904-701-1413', 'ccicci2o@vistaprint.com', 'active'),\n",
       " ('80', 'Flin Lodovichi', '7 Anderson Way', '301-591-3154', 'flodovichi27@blinklist.com', 'active'),\n",
       " ('28', 'Morris Whetland', '72 Dexter Circle', '133-259-1189', 'mwhetlandr@rambler.ru', 'active'),\n",
       " ('33', 'Nealy Camblin', '89671 Killdeer Terrace', '436-337-4886', 'ncamblinw@icio.us', 'active'),\n",
       " ('48', 'Jazmin Sholl', '743 Hudson Way', '286-963-5049', 'jsholl1b@walmart.com', 'inactive'),\n",
       " ('20', 'Myron Atkin', '7523 Lillian Park', '301-819-0545', 'matkinj@irs.gov', 'inactive'),\n",
       " ('98', 'Arlinda Hoult', '4 Prairie Rose Center', '949-378-2061', 'ahoult2p@globo.com', 'inactive'),\n",
       " ('87', 'Krista Kaes', '8 Judy Street', '743-910-7495', 'kkaes2e@globo.com', 'inactive'),\n",
       " ('42', 'Freddie Garstang', '0778 Marcy Way', '491-180-9446', 'fgarstang15@oakley.com', 'active'),\n",
       " ('69', 'Elsbeth Workman', '3 Lawn Street', '991-910-4412', 'eworkman1w@mozilla.org', 'inactive')]"
      ]
     },
     "execution_count": 23,
     "metadata": {},
     "output_type": "execute_result"
    }
   ],
   "source": [
    "%%sql\n",
    "SELECT * \n",
    "FROM (\n",
    "    SELECT *\n",
    "    FROM active_patients\n",
    "    UNION\n",
    "    SELECT *\n",
    "    FROM inactive_patients\n",
    ")\n",
    "ORDER BY RANDOM()\n",
    "LIMIT 10;"
   ]
  },
  {
   "cell_type": "markdown",
   "metadata": {},
   "source": [
    "<font color=green>Someone wants to know the patient IDs of patients that have had more than one panel done. The query below selects patient_ID and a count of patient_ID, then uses HAVING to set the count condition (count > 1). The resulting table is ordered by the count of patient_ID, in descending order.\n",
    "    </font>"
   ]
  },
  {
   "cell_type": "code",
   "execution_count": 31,
   "metadata": {},
   "outputs": [
    {
     "name": "stdout",
     "output_type": "stream",
     "text": [
      " * sqlite:////Users/kvd51/Documents/Git/SQL/AHD.db\n",
      "Done.\n"
     ]
    },
    {
     "data": {
      "text/html": [
       "<table>\n",
       "    <tr>\n",
       "        <th>patient_ID</th>\n",
       "        <th>COUNT(patient_ID)</th>\n",
       "    </tr>\n",
       "    <tr>\n",
       "        <td>14</td>\n",
       "        <td>5</td>\n",
       "    </tr>\n",
       "    <tr>\n",
       "        <td>11</td>\n",
       "        <td>4</td>\n",
       "    </tr>\n",
       "    <tr>\n",
       "        <td>48</td>\n",
       "        <td>4</td>\n",
       "    </tr>\n",
       "    <tr>\n",
       "        <td>16</td>\n",
       "        <td>3</td>\n",
       "    </tr>\n",
       "    <tr>\n",
       "        <td>28</td>\n",
       "        <td>3</td>\n",
       "    </tr>\n",
       "    <tr>\n",
       "        <td>32</td>\n",
       "        <td>3</td>\n",
       "    </tr>\n",
       "    <tr>\n",
       "        <td>46</td>\n",
       "        <td>3</td>\n",
       "    </tr>\n",
       "    <tr>\n",
       "        <td>56</td>\n",
       "        <td>3</td>\n",
       "    </tr>\n",
       "    <tr>\n",
       "        <td>65</td>\n",
       "        <td>3</td>\n",
       "    </tr>\n",
       "    <tr>\n",
       "        <td>2</td>\n",
       "        <td>2</td>\n",
       "    </tr>\n",
       "    <tr>\n",
       "        <td>30</td>\n",
       "        <td>2</td>\n",
       "    </tr>\n",
       "    <tr>\n",
       "        <td>39</td>\n",
       "        <td>2</td>\n",
       "    </tr>\n",
       "    <tr>\n",
       "        <td>41</td>\n",
       "        <td>2</td>\n",
       "    </tr>\n",
       "    <tr>\n",
       "        <td>43</td>\n",
       "        <td>2</td>\n",
       "    </tr>\n",
       "    <tr>\n",
       "        <td>44</td>\n",
       "        <td>2</td>\n",
       "    </tr>\n",
       "    <tr>\n",
       "        <td>45</td>\n",
       "        <td>2</td>\n",
       "    </tr>\n",
       "    <tr>\n",
       "        <td>47</td>\n",
       "        <td>2</td>\n",
       "    </tr>\n",
       "    <tr>\n",
       "        <td>53</td>\n",
       "        <td>2</td>\n",
       "    </tr>\n",
       "    <tr>\n",
       "        <td>54</td>\n",
       "        <td>2</td>\n",
       "    </tr>\n",
       "    <tr>\n",
       "        <td>55</td>\n",
       "        <td>2</td>\n",
       "    </tr>\n",
       "    <tr>\n",
       "        <td>58</td>\n",
       "        <td>2</td>\n",
       "    </tr>\n",
       "    <tr>\n",
       "        <td>71</td>\n",
       "        <td>2</td>\n",
       "    </tr>\n",
       "    <tr>\n",
       "        <td>82</td>\n",
       "        <td>2</td>\n",
       "    </tr>\n",
       "    <tr>\n",
       "        <td>84</td>\n",
       "        <td>2</td>\n",
       "    </tr>\n",
       "    <tr>\n",
       "        <td>90</td>\n",
       "        <td>2</td>\n",
       "    </tr>\n",
       "</table>"
      ],
      "text/plain": [
       "[('14', 5),\n",
       " ('11', 4),\n",
       " ('48', 4),\n",
       " ('16', 3),\n",
       " ('28', 3),\n",
       " ('32', 3),\n",
       " ('46', 3),\n",
       " ('56', 3),\n",
       " ('65', 3),\n",
       " ('2', 2),\n",
       " ('30', 2),\n",
       " ('39', 2),\n",
       " ('41', 2),\n",
       " ('43', 2),\n",
       " ('44', 2),\n",
       " ('45', 2),\n",
       " ('47', 2),\n",
       " ('53', 2),\n",
       " ('54', 2),\n",
       " ('55', 2),\n",
       " ('58', 2),\n",
       " ('71', 2),\n",
       " ('82', 2),\n",
       " ('84', 2),\n",
       " ('90', 2)]"
      ]
     },
     "execution_count": 31,
     "metadata": {},
     "output_type": "execute_result"
    }
   ],
   "source": [
    "%%sql\n",
    "SELECT patient_ID, COUNT(patient_ID)\n",
    "FROM panels\n",
    "GROUP BY patient_ID\n",
    "HAVING COUNT(patient_ID) > 1\n",
    "ORDER BY 2 DESC;"
   ]
  },
  {
   "cell_type": "markdown",
   "metadata": {},
   "source": [
    "### Data analysis of CAD risk\n",
    "\n",
    "<font color=green>LDL is the \"bad\" cholesterol, and will be used to determine CAD risk. However, LDL is not included in the panels table, so it will have to be calculated.\n",
    "    \n",
    "First we'll add an LDL column to the panels table.\n",
    "    </font>"
   ]
  },
  {
   "cell_type": "code",
   "execution_count": 36,
   "metadata": {},
   "outputs": [
    {
     "name": "stdout",
     "output_type": "stream",
     "text": [
      " * sqlite:////Users/kvd51/Documents/Git/SQL/AHD.db\n",
      "Done.\n"
     ]
    },
    {
     "data": {
      "text/plain": [
       "[]"
      ]
     },
     "execution_count": 36,
     "metadata": {},
     "output_type": "execute_result"
    }
   ],
   "source": [
    "%%sql\n",
    "ALTER TABLE panels ADD COLUMN LDL \n",
    "DECIMAL(5, 2);"
   ]
  },
  {
   "cell_type": "markdown",
   "metadata": {},
   "source": [
    "<font color=green>Next, we'll add the calculated LDL to the panels table. The calculation used is called the Friedewald equation, which was used historically used to calculate LDL.\n",
    "    </font>"
   ]
  },
  {
   "cell_type": "code",
   "execution_count": 41,
   "metadata": {},
   "outputs": [
    {
     "name": "stdout",
     "output_type": "stream",
     "text": [
      " * sqlite:////Users/kvd51/Documents/Git/SQL/AHD.db\n",
      "100 rows affected.\n"
     ]
    },
    {
     "data": {
      "text/plain": [
       "[]"
      ]
     },
     "execution_count": 41,
     "metadata": {},
     "output_type": "execute_result"
    }
   ],
   "source": [
    "%%sql\n",
    "UPDATE panels\n",
    "SET LDL = ROUND(panels.Cholesterol - (panels.HDL + panels.Triglycerides/5), 2);"
   ]
  },
  {
   "cell_type": "markdown",
   "metadata": {},
   "source": [
    "<font color=green>Next, display the panels table to confirm the LDL levels were added and appear correct.\n",
    "    </font>"
   ]
  },
  {
   "cell_type": "code",
   "execution_count": 42,
   "metadata": {},
   "outputs": [
    {
     "name": "stdout",
     "output_type": "stream",
     "text": [
      " * sqlite:////Users/kvd51/Documents/Git/SQL/AHD.db\n",
      "Done.\n"
     ]
    },
    {
     "data": {
      "text/html": [
       "<table>\n",
       "    <tr>\n",
       "        <th>ID</th>\n",
       "        <th>Cholesterol</th>\n",
       "        <th>HDL</th>\n",
       "        <th>Triglycerides</th>\n",
       "        <th>patient_ID</th>\n",
       "        <th>LDL</th>\n",
       "    </tr>\n",
       "    <tr>\n",
       "        <td>1</td>\n",
       "        <td>230.61</td>\n",
       "        <td>71.87</td>\n",
       "        <td>81.82</td>\n",
       "        <td>97</td>\n",
       "        <td>142.38</td>\n",
       "    </tr>\n",
       "    <tr>\n",
       "        <td>2</td>\n",
       "        <td>294.04</td>\n",
       "        <td>93.98</td>\n",
       "        <td>123.89</td>\n",
       "        <td>48</td>\n",
       "        <td>175.28</td>\n",
       "    </tr>\n",
       "    <tr>\n",
       "        <td>3</td>\n",
       "        <td>250.1</td>\n",
       "        <td>78.31</td>\n",
       "        <td>237.73</td>\n",
       "        <td>55</td>\n",
       "        <td>124.24</td>\n",
       "    </tr>\n",
       "    <tr>\n",
       "        <td>4</td>\n",
       "        <td>122.01</td>\n",
       "        <td>55.05</td>\n",
       "        <td>166.37</td>\n",
       "        <td>30</td>\n",
       "        <td>33.69</td>\n",
       "    </tr>\n",
       "    <tr>\n",
       "        <td>5</td>\n",
       "        <td>281.93</td>\n",
       "        <td>81.55</td>\n",
       "        <td>223.15</td>\n",
       "        <td>14</td>\n",
       "        <td>155.75</td>\n",
       "    </tr>\n",
       "</table>"
      ],
      "text/plain": [
       "[('1', '230.61', '71.87', '81.82', '97', 142.38),\n",
       " ('2', '294.04', '93.98', '123.89', '48', 175.28),\n",
       " ('3', '250.1', '78.31', '237.73', '55', 124.24),\n",
       " ('4', '122.01', '55.05', '166.37', '30', 33.69),\n",
       " ('5', '281.93', '81.55', '223.15', '14', 155.75)]"
      ]
     },
     "execution_count": 42,
     "metadata": {},
     "output_type": "execute_result"
    }
   ],
   "source": [
    "%%sql\n",
    "SELECT *\n",
    "FROM panels\n",
    "LIMIT 5;"
   ]
  },
  {
   "cell_type": "markdown",
   "metadata": {},
   "source": [
    "<font color=green>Now we'll provide a list of patients that may be at risk of CAD:\n",
    " - We'll use WITH to select and alias out the Borderline_High LDL value (the threshold value to measure against the calculated LDLs) from the recommended_values table. The alias for the selection is 'rv.' \n",
    " - Someone requested the Name, LDL, Address and Phone for the at risk patients, so the query will need to JOIN the active_patients and panels tables to provide all the requested fields. The JOIN will be ON patient_ID. \n",
    " - HAVING is used to compare the LDL levels against the Borderline_High value from the rv alias (rv.Borderline_High).\n",
    " - Selected patient information is returned if the LDL level is >= the LDL Bordeline_High value.\n",
    "    </font>"
   ]
  },
  {
   "cell_type": "code",
   "execution_count": 52,
   "metadata": {},
   "outputs": [
    {
     "name": "stdout",
     "output_type": "stream",
     "text": [
      " * sqlite:////Users/kvd51/Documents/Git/SQL/AHD.db\n",
      "Done.\n"
     ]
    },
    {
     "data": {
      "text/html": [
       "<table>\n",
       "    <tr>\n",
       "        <th>Name</th>\n",
       "        <th>LDL</th>\n",
       "        <th>Address</th>\n",
       "        <th>Phone</th>\n",
       "    </tr>\n",
       "    <tr>\n",
       "        <td>Vikky Rudkin</td>\n",
       "        <td>199.41</td>\n",
       "        <td>9 Heath Point</td>\n",
       "        <td>242-283-8676</td>\n",
       "    </tr>\n",
       "    <tr>\n",
       "        <td>Talbert Froom</td>\n",
       "        <td>195.24</td>\n",
       "        <td>8 Ludington Alley</td>\n",
       "        <td>977-720-5869</td>\n",
       "    </tr>\n",
       "    <tr>\n",
       "        <td>Freddie Garstang</td>\n",
       "        <td>183.61</td>\n",
       "        <td>0778 Marcy Way</td>\n",
       "        <td>491-180-9446</td>\n",
       "    </tr>\n",
       "    <tr>\n",
       "        <td>Moreen Corse</td>\n",
       "        <td>175.71</td>\n",
       "        <td>4 Lake View Alley</td>\n",
       "        <td>606-453-2457</td>\n",
       "    </tr>\n",
       "    <tr>\n",
       "        <td>Morris Whetland</td>\n",
       "        <td>170.82</td>\n",
       "        <td>72 Dexter Circle</td>\n",
       "        <td>133-259-1189</td>\n",
       "    </tr>\n",
       "    <tr>\n",
       "        <td>Melisandra Southward</td>\n",
       "        <td>161.33</td>\n",
       "        <td>6776 Harper Avenue</td>\n",
       "        <td>427-110-3840</td>\n",
       "    </tr>\n",
       "    <tr>\n",
       "        <td>Shalne Paddemore</td>\n",
       "        <td>157.43</td>\n",
       "        <td>17 Green Lane</td>\n",
       "        <td>955-675-7880</td>\n",
       "    </tr>\n",
       "    <tr>\n",
       "        <td>Anastasia Bartolomieu</td>\n",
       "        <td>155.75</td>\n",
       "        <td>57 Fallview Street</td>\n",
       "        <td>326-441-6684</td>\n",
       "    </tr>\n",
       "    <tr>\n",
       "        <td>Hunt Collumbine</td>\n",
       "        <td>146.61</td>\n",
       "        <td>15 Toban Drive</td>\n",
       "        <td>730-309-1736</td>\n",
       "    </tr>\n",
       "    <tr>\n",
       "        <td>Chas Cicci</td>\n",
       "        <td>142.38</td>\n",
       "        <td>109 Drewry Hill</td>\n",
       "        <td>904-701-1413</td>\n",
       "    </tr>\n",
       "    <tr>\n",
       "        <td>Ignatius Weatherhogg</td>\n",
       "        <td>135.71</td>\n",
       "        <td>44884 Birchwood Park</td>\n",
       "        <td>800-811-6794</td>\n",
       "    </tr>\n",
       "    <tr>\n",
       "        <td>Corrianne Dreossi</td>\n",
       "        <td>134.68</td>\n",
       "        <td>524 Buell Place</td>\n",
       "        <td>523-101-0929</td>\n",
       "    </tr>\n",
       "</table>"
      ],
      "text/plain": [
       "[('Vikky Rudkin', 199.41, '9 Heath Point', '242-283-8676'),\n",
       " ('Talbert Froom', 195.24, '8 Ludington Alley', '977-720-5869'),\n",
       " ('Freddie Garstang', 183.61, '0778 Marcy Way', '491-180-9446'),\n",
       " ('Moreen Corse', 175.71, '4 Lake View Alley', '606-453-2457'),\n",
       " ('Morris Whetland', 170.82, '72 Dexter Circle', '133-259-1189'),\n",
       " ('Melisandra Southward', 161.33, '6776 Harper Avenue', '427-110-3840'),\n",
       " ('Shalne Paddemore', 157.43, '17 Green Lane', '955-675-7880'),\n",
       " ('Anastasia Bartolomieu', 155.75, '57 Fallview Street', '326-441-6684'),\n",
       " ('Hunt Collumbine', 146.61, '15 Toban Drive', '730-309-1736'),\n",
       " ('Chas Cicci', 142.38, '109 Drewry Hill', '904-701-1413'),\n",
       " ('Ignatius Weatherhogg', 135.71, '44884 Birchwood Park', '800-811-6794'),\n",
       " ('Corrianne Dreossi', 134.68, '524 Buell Place', '523-101-0929')]"
      ]
     },
     "execution_count": 52,
     "metadata": {},
     "output_type": "execute_result"
    }
   ],
   "source": [
    "%%sql\n",
    "WITH rv AS (\n",
    "    SELECT Borderline_High\n",
    "    FROM recommended_values\n",
    "    WHERE Lipid = 'LDL'\n",
    ")\n",
    "SELECT Name, LDL, Address, Phone\n",
    "FROM active_patients, rv\n",
    "JOIN panels\n",
    "    ON active_patients.ID = panels.patient_ID\n",
    "GROUP BY LDL, Name\n",
    "HAVING LDL >= rv.Borderline_High\n",
    "ORDER BY LDL DESC;"
   ]
  },
  {
   "cell_type": "markdown",
   "metadata": {},
   "source": [
    "<font color=green>Finally, we want to know the number of patients that have LDL levels above the High threshold and the number above the Borderline_High but less than High. This is more complicated. We'll need to use CASE (like an IF statement).\n",
    " - Need to first use WITH to select and alias out Borderline_High and High LDL values from the recommended_values table.\n",
    " - Select the count of LDL levels greater than the recommended values from the panels table. Alias the counts to make it clear what the count values are when they are returned in the output.\n",
    "    </font>"
   ]
  },
  {
   "cell_type": "code",
   "execution_count": 55,
   "metadata": {},
   "outputs": [
    {
     "name": "stdout",
     "output_type": "stream",
     "text": [
      " * sqlite:////Users/kvd51/Documents/Git/SQL/AHD.db\n",
      "Done.\n"
     ]
    },
    {
     "data": {
      "text/html": [
       "<table>\n",
       "    <tr>\n",
       "        <th>High</th>\n",
       "        <th>Borderline_High</th>\n",
       "    </tr>\n",
       "    <tr>\n",
       "        <td>12</td>\n",
       "        <td>9</td>\n",
       "    </tr>\n",
       "</table>"
      ],
      "text/plain": [
       "[(12, 9)]"
      ]
     },
     "execution_count": 55,
     "metadata": {},
     "output_type": "execute_result"
    }
   ],
   "source": [
    "%%sql\n",
    "WITH rv AS (\n",
    "    SELECT Borderline_High, High\n",
    "    FROM recommended_values\n",
    "    WHERE Lipid = 'LDL'\n",
    ")\n",
    "SELECT\n",
    "    COUNT(\n",
    "        CASE\n",
    "            WHEN(\n",
    "                LDL >= rv.High\n",
    "            )\n",
    "            THEN LDL\n",
    "        END\n",
    "    ) AS High,\n",
    "    COUNT(\n",
    "        CASE\n",
    "            WHEN(\n",
    "                LDL >= rv.Borderline_High AND LDL < rv.High\n",
    "            )\n",
    "            THEN LDL\n",
    "        END\n",
    "    ) AS Borderline_High\n",
    "FROM panels, rv;"
   ]
  }
 ],
 "metadata": {
  "kernelspec": {
   "display_name": "Python 3",
   "language": "python",
   "name": "python3"
  },
  "language_info": {
   "codemirror_mode": {
    "name": "ipython",
    "version": 3
   },
   "file_extension": ".py",
   "mimetype": "text/x-python",
   "name": "python",
   "nbconvert_exporter": "python",
   "pygments_lexer": "ipython3",
   "version": "3.7.0"
  }
 },
 "nbformat": 4,
 "nbformat_minor": 2
}
